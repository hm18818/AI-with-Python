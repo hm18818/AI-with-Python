{
 "cells": [
  {
   "cell_type": "code",
   "execution_count": 2,
   "id": "023e27b6-9aad-4c75-8d13-d772322a42b4",
   "metadata": {},
   "outputs": [
    {
     "name": "stdout",
     "output_type": "stream",
     "text": [
      "Optimal A* Schedule: [] Time: inf\n",
      "Greedy Schedule: ['B', 'A', 'C', 'D', 'E'] Time: 15\n"
     ]
    },
    {
     "data": {
      "image/png": "[encoded data removed]",
      "text/plain": [
       "<Figure size 800x400 with 1 Axes>"
      ]
     },
     "metadata": {},
     "output_type": "display_data"
    },
    {
     "data": {
      "image/png": "[encoded data removed]",
      "text/plain": [
       "<Figure size 800x400 with 1 Axes>"
      ]
     },
     "metadata": {},
     "output_type": "display_data"
    }
   ],
   "source": [
    "import heapq\n",
    "from collections import deque\n",
    "import matplotlib.pyplot as plt\n",
    "\n",
    "class TaskScheduler:\n",
    "    def __init__(self, tasks, dependencies):\n",
    "        self.tasks = tasks  # Dictionary {task: duration}\n",
    "        self.dependencies = dependencies  # List of (prerequisite, dependent)\n",
    "        self.graph, self.in_degree = self.build_graph()\n",
    "\n",
    "    def build_graph(self):\n",
    "        graph = {task: [] for task in self.tasks}\n",
    "        in_degree = {task: 0 for task in self.tasks}\n",
    "        \n",
    "        for pre, dep in self.dependencies:\n",
    "            graph[pre].append(dep)\n",
    "            in_degree[dep] += 1\n",
    "        \n",
    "        return graph, in_degree\n",
    "    \n",
    "    def heuristic(self, remaining_tasks):\n",
    "        \"\"\" Heuristic function: Estimate remaining duration by summing longest path.\"\"\"\n",
    "        return sum(self.tasks[t] for t in remaining_tasks)\n",
    "    \n",
    "    def a_star_schedule(self):\n",
    "        \"\"\" A* Search to find the optimal task schedule. \"\"\"\n",
    "        open_list = []  # Priority queue (min-heap)\n",
    "        heapq.heappush(open_list, (0, 0, [], set()))  # (f(n), time taken, completed tasks, remaining tasks)\n",
    "        \n",
    "        best_time = float('inf')\n",
    "        best_schedule = []\n",
    "        \n",
    "        while open_list:\n",
    "            f, g, completed, remaining = heapq.heappop(open_list)\n",
    "            \n",
    "            if len(completed) == len(self.tasks):\n",
    "                if g < best_time:\n",
    "                    best_time, best_schedule = g, completed\n",
    "                continue\n",
    "            \n",
    "            # Get available tasks (in-degree = 0)\n",
    "            available = [t for t in self.tasks if t not in completed and self.in_degree[t] == 0]\n",
    "            \n",
    "            for task in available:\n",
    "                new_completed = completed + [task]\n",
    "                new_remaining = remaining | {task}\n",
    "                new_g = g + self.tasks[task]\n",
    "                new_h = self.heuristic(set(self.tasks) - new_remaining)\n",
    "                new_f = new_g + new_h\n",
    "                \n",
    "                heapq.heappush(open_list, (new_f, new_g, new_completed, new_remaining))\n",
    "                \n",
    "        return best_schedule, best_time\n",
    "    \n",
    "    def greedy_schedule(self):\n",
    "        \"\"\" Greedy algorithm: Always pick the shortest available task. \"\"\"\n",
    "        available = deque([t for t in self.tasks if self.in_degree[t] == 0])\n",
    "        schedule = []\n",
    "        time_taken = 0\n",
    "        \n",
    "        while available:\n",
    "            task = min(available, key=lambda t: self.tasks[t])  # Shortest task first\n",
    "            available.remove(task)\n",
    "            schedule.append(task)\n",
    "            time_taken += self.tasks[task]\n",
    "            \n",
    "            for dep in self.graph[task]:\n",
    "                self.in_degree[dep] -= 1\n",
    "                if self.in_degree[dep] == 0:\n",
    "                    available.append(dep)\n",
    "                    \n",
    "        return schedule, time_taken\n",
    "\n",
    "    def plot_schedule(self, schedule, title):\n",
    "        \"\"\" Plot the schedule as a Gantt chart. \"\"\"\n",
    "        start_times = {}\n",
    "        current_time = 0\n",
    "        \n",
    "        for task in schedule:\n",
    "            start_times[task] = current_time\n",
    "            current_time += self.tasks[task]\n",
    "        \n",
    "        fig, ax = plt.subplots(figsize=(8, 4))\n",
    "        for task, start_time in start_times.items():\n",
    "            ax.barh(task, self.tasks[task], left=start_time, color='skyblue', edgecolor='black')\n",
    "        \n",
    "        ax.set_xlabel(\"Time\")\n",
    "        ax.set_title(title)\n",
    "        plt.show()\n",
    "\n",
    "\n",
    "# Example Usage\n",
    "tasks = {\n",
    "    'A': 3, 'B': 2, 'C': 1, 'D': 4, 'E': 5\n",
    "}\n",
    "dependencies = [('A', 'C'), ('A', 'D'), ('B', 'D'), ('C', 'E'), ('D', 'E')]\n",
    "\n",
    "scheduler = TaskScheduler(tasks, dependencies)\n",
    "optimal_schedule, optimal_time = scheduler.a_star_schedule()\n",
    "greedy_schedule, greedy_time = scheduler.greedy_schedule()\n",
    "\n",
    "print(\"Optimal A* Schedule:\", optimal_schedule, \"Time:\", optimal_time)\n",
    "print(\"Greedy Schedule:\", greedy_schedule, \"Time:\", greedy_time)\n",
    "\n",
    "scheduler.plot_schedule(optimal_schedule, \"Optimal A* Schedule\")\n",
    "scheduler.plot_schedule(greedy_schedule, \"Greedy Schedule\")"
   ]
  },
  {
   "cell_type": "code",
   "execution_count": null,
   "id": "68fa0d11-4b8d-49ef-8935-78d98c49e9c4",
   "metadata": {},
   "outputs": [],
   "source": []
  }
 ],
 "metadata": {
  "kernelspec": {
   "display_name": "Python 3 (ipykernel)",
   "language": "python",
   "name": "python3"
  },
  "language_info": {
   "codemirror_mode": {
    "name": "ipython",
    "version": 3
   },
   "file_extension": ".py",
   "mimetype": "text/x-python",
   "name": "python",
   "nbconvert_exporter": "python",
   "pygments_lexer": "ipython3",
   "version": "3.12.7"
  }
 },
 "nbformat": 4,
 "nbformat_minor": 5
}
