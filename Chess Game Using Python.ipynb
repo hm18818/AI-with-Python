{
 "cells": [
  {
   "cell_type": "code",
   "execution_count": 1,
   "id": "8f5832b7-6096-40c1-a867-a245ec998011",
   "metadata": {},
   "outputs": [
    {
     "name": "stdout",
     "output_type": "stream",
     "text": [
      "Optimal solution (board positions): [4, 6, 3, 0, 2, 7, 5, 1]\n"
     ]
    },
    {
     "data": {
      "image/png": "[encoded data removed]",
      "text/plain": [
       "<Figure size 600x600 with 1 Axes>"
      ]
     },
     "metadata": {},
     "output_type": "display_data"
    }
   ],
   "source": [
    "import random\n",
    "import matplotlib.pyplot as plt\n",
    "import numpy as np\n",
    "\n",
    "class EightQueensProblem:\n",
    "    def __init__(self):\n",
    "        self.size = 8  # 8x8 chessboard\n",
    "\n",
    "    def initial_state(self):\n",
    "        return [random.randint(0, self.size - 1) for _ in range(self.size)]\n",
    "\n",
    "    def get_neighbors(self, state):\n",
    "        neighbors = []\n",
    "        for col in range(self.size):\n",
    "            for row in range(self.size):\n",
    "                if state[col] != row:\n",
    "                    neighbor = state[:]\n",
    "                    neighbor[col] = row\n",
    "                    neighbors.append(neighbor)\n",
    "        return neighbors\n",
    "\n",
    "    def evaluate(self, state):\n",
    "        conflicts = 0\n",
    "        for i in range(self.size):\n",
    "            for j in range(i + 1, self.size):\n",
    "                if state[i] == state[j] or abs(state[i] - state[j]) == abs(i - j):\n",
    "                    conflicts += 1\n",
    "        return -conflicts  # Minimize conflicts\n",
    "\n",
    "def hill_climbing(problem, max_restarts=100):\n",
    "    for _ in range(max_restarts):\n",
    "        current = problem.initial_state()\n",
    "        while True:\n",
    "            neighbors = problem.get_neighbors(current)\n",
    "            if not neighbors:\n",
    "                break\n",
    "            next_state = max(neighbors, key=problem.evaluate)\n",
    "            if problem.evaluate(next_state) <= problem.evaluate(current):\n",
    "                break\n",
    "            current = next_state\n",
    "        if problem.evaluate(current) == 0:\n",
    "            return current  # Found a solution with zero conflicts\n",
    "    return None  # No valid solution found after max_restarts\n",
    "\n",
    "def visualize_board(state):\n",
    "    \"\"\" Display an 8x8 chessboard with properly aligned queens (♛) \"\"\"\n",
    "    size = len(state)\n",
    "    fig, ax = plt.subplots(figsize=(6, 6))\n",
    "    \n",
    "    # Draw the chessboard squares correctly\n",
    "    for row in range(size):\n",
    "        for col in range(size):\n",
    "            color = \"white\" if (row + col) % 2 == 0 else \"black\"\n",
    "            ax.add_patch(plt.Rectangle((col, row), 1, 1, color=color))\n",
    "\n",
    "    # Place queens (♛) correctly centered\n",
    "    for col, row in enumerate(state):\n",
    "        ax.text(col + 0.5, row + 0.5, '♛', fontsize=30, ha='center', va='center', color='red')\n",
    "\n",
    "    # Adjust the board to display correctly\n",
    "    ax.set_xticks([])\n",
    "    ax.set_yticks([])\n",
    "    ax.set_xlim(0, size)\n",
    "    ax.set_ylim(0, size)\n",
    "    ax.set_aspect('equal')\n",
    "\n",
    "    plt.gca().invert_yaxis()  # Fix top-left origin like a real chessboard\n",
    "    plt.show()\n",
    "\n",
    "if __name__ == \"__main__\":\n",
    "    problem = EightQueensProblem()\n",
    "    solution = hill_climbing(problem)\n",
    "    if solution:\n",
    "        print(\"Optimal solution (board positions):\", solution)\n",
    "        visualize_board(solution)\n",
    "    else:\n",
    "        print(\"No solution found after maximum restarts.\")\n"
   ]
  },
  {
   "cell_type": "code",
   "execution_count": null,
   "id": "b6780818-e1ea-414e-8f15-7aa7f55fc087",
   "metadata": {},
   "outputs": [],
   "source": []
  }
 ],
 "metadata": {
  "kernelspec": {
   "display_name": "Python 3 (ipykernel)",
   "language": "python",
   "name": "python3"
  },
  "language_info": {
   "codemirror_mode": {
    "name": "ipython",
    "version": 3
   },
   "file_extension": ".py",
   "mimetype": "text/x-python",
   "name": "python",
   "nbconvert_exporter": "python",
   "pygments_lexer": "ipython3",
   "version": "3.12.7"
  }
 },
 "nbformat": 4,
 "nbformat_minor": 5
}
